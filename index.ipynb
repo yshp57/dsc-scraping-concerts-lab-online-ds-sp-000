{
 "cells": [
  {
   "cell_type": "markdown",
   "metadata": {},
   "source": [
    "# Scraping Concerts - Lab\n",
    "\n",
    "## Introduction\n",
    "\n",
    "Now that you've seen how to scrape a simple website, it's time to again practice those skills on a full-fledged site!\n",
    "In this lab, you'll practice your scraping skills on a music website: https://www.residentadvisor.net.\n",
    "## Objectives\n",
    "\n",
    "You will be able to:\n",
    "* Create a full scraping pipeline that involves traversing over many pages of a website, dealing with errors and storing data"
   ]
  },
  {
   "cell_type": "markdown",
   "metadata": {},
   "source": [
    "## View the Website\n",
    "\n",
    "For this lab, you'll be scraping the https://www.residentadvisor.net website. Start by navigating to the events page [here](https://www.residentadvisor.net/events) in your browser.\n",
    "\n",
    "<img src=\"images/ra.png\">"
   ]
  },
  {
   "cell_type": "code",
   "execution_count": 1,
   "metadata": {},
   "outputs": [],
   "source": [
    "# Load the https://www.residentadvisor.net/events page in your browser.\n",
    "from bs4 import BeautifulSoup\n",
    "import requests\n",
    "import pandas as pd"
   ]
  },
  {
   "cell_type": "markdown",
   "metadata": {},
   "source": [
    "## Open the Inspect Element Feature\n",
    "\n",
    "Next, open the inspect element feature from your web browser in order to preview the underlying HTML associated with the page."
   ]
  },
  {
   "cell_type": "code",
   "execution_count": null,
   "metadata": {},
   "outputs": [],
   "source": [
    "# Open the inspect element feature in your browser"
   ]
  },
  {
   "cell_type": "markdown",
   "metadata": {},
   "source": [
    "## Write a Function to Scrape all of the Events on the Given Page Events Page\n",
    "\n",
    "The function should return a Pandas DataFrame with columns for the Event_Name, Venue, Event_Date and Number_of_Attendees."
   ]
  },
  {
   "cell_type": "code",
   "execution_count": 4,
   "metadata": {},
   "outputs": [],
   "source": [
    "request = requests.get('https://www.residentadvisor.net/events')\n",
    "soup = BeautifulSoup(request.content, 'html.parser')"
   ]
  },
  {
   "cell_type": "code",
   "execution_count": 44,
   "metadata": {},
   "outputs": [
    {
     "data": {
      "text/plain": [
       "'TBA - Brooklyn'"
      ]
     },
     "execution_count": 44,
     "metadata": {},
     "output_type": "execute_result"
    }
   ],
   "source": [
    "soup.find_all('h1', attrs={'class':'event-title'})[2].find('span', {'class':'grey'}).text"
   ]
  },
  {
   "cell_type": "code",
   "execution_count": 35,
   "metadata": {},
   "outputs": [
    {
     "data": {
      "text/plain": [
       "[<p class=\"eventDate date\"><a href=\"/events.aspx?ai=8&amp;v=day&amp;mn=2&amp;yr=2020&amp;dy=9\"><span>Sun, 09 Feb 2020 /</span></a></p>,\n",
       " <p class=\"eventDate date\"><a href=\"/events.aspx?ai=8&amp;v=day&amp;mn=2&amp;yr=2020&amp;dy=10\"><span>Mon, 10 Feb 2020 /</span></a></p>,\n",
       " <p class=\"eventDate date\"><a href=\"/events.aspx?ai=8&amp;v=day&amp;mn=2&amp;yr=2020&amp;dy=11\"><span>Tue, 11 Feb 2020 /</span></a></p>,\n",
       " <p class=\"eventDate date\"><a href=\"/events.aspx?ai=8&amp;v=day&amp;mn=2&amp;yr=2020&amp;dy=12\"><span>Wed, 12 Feb 2020 /</span></a></p>,\n",
       " <p class=\"eventDate date\"><a href=\"/events.aspx?ai=8&amp;v=day&amp;mn=2&amp;yr=2020&amp;dy=13\"><span>Thu, 13 Feb 2020 /</span></a></p>,\n",
       " <p class=\"eventDate date\"><a href=\"/events.aspx?ai=8&amp;v=day&amp;mn=2&amp;yr=2020&amp;dy=14\"><span>Fri, 14 Feb 2020 /</span></a></p>,\n",
       " <p class=\"eventDate date\"><a href=\"/events.aspx?ai=8&amp;v=day&amp;mn=2&amp;yr=2020&amp;dy=15\"><span>Sat, 15 Feb 2020 /</span></a></p>]"
      ]
     },
     "execution_count": 35,
     "metadata": {},
     "output_type": "execute_result"
    }
   ],
   "source": [
    "soup.find_all('p', attrs={'class':'eventDate date'})"
   ]
  },
  {
   "cell_type": "code",
   "execution_count": 66,
   "metadata": {},
   "outputs": [],
   "source": [
    "def scrape_events(events_page_url):\n",
    "    #Your code here\n",
    "    request = requests.get(events_page_url)\n",
    "    soup = BeautifulSoup(request.content, 'html.parser')\n",
    "    Event_Name = []\n",
    "    Venue = []\n",
    "    Event_Date = []\n",
    "    Number_of_Attendees = []\n",
    "    fullevents = soup.find_all('h1', attrs={'class':'event-title'})\n",
    "    for n,event in enumerate(fullevents):\n",
    "        Event_Name.append(event.find_all('a')[0].text)\n",
    "        print(Event_Name[n])\n",
    "        try:\n",
    "            Venue.append(event.find_all('a')[1].text)\n",
    "        except:\n",
    "            Venue.append(event.find('span', {'class':'grey'}))\n",
    "        try:\n",
    "            Number_of_Attendees.append(event.nextSibling.nextSibling.text)\n",
    "        except:\n",
    "            Number_of_Attendees.append(0)\n",
    "    print(len(Event_Name))\n",
    "    print(len(Venue))\n",
    "    print(len(Number_of_Attendees))\n",
    "    d = {'Event_Name':Event_Name, 'Venue':Venue, 'Number_of_Attendees':Number_of_Attendees}\n",
    "    df = pd.DataFrame.from_dict(d)\n",
    "    return df"
   ]
  },
  {
   "cell_type": "code",
   "execution_count": null,
   "metadata": {},
   "outputs": [],
   "source": []
  },
  {
   "cell_type": "code",
   "execution_count": 67,
   "metadata": {},
   "outputs": [
    {
     "name": "stdout",
     "output_type": "stream",
     "text": [
      "Weird Science n.18 with Antenes, DJ Voices, Amourette\n",
      "dweller: Kfeelz, Bryn Barnett and Titonton Duvante\n",
      "Night-Walkers *Saeed Younan\n",
      "Dweller\n",
      "dweller: Make Techno Black Again presents Black Sound\n",
      "dweller: Black Unicorn with Adam R, DJ Wawa, Getty\n",
      "Sunday Soiree: Chad Andrew, Hunter Vita, Julius\n",
      "Rave Scout Cookies x Dancesafe #001: NYC\n",
      "Paradisco by Occupy The Disco\n",
      "Public Records presents Unity & Rythm\n",
      "Rare Frequency Transmissions Happy Hour\n",
      "Birdcage with Steve Travolta\n",
      "Dxrk Mxttr with Marcus Logan\n",
      "Ultramaroon - House Music Sundays\n",
      "Public Records presents Unity & Rythm\n",
      "Party Party Party\n",
      "Dan Demerit // Brälle\n",
      "The Office presents: Shhh Music By: Alex Ander\n",
      "MASHT NYC - Spin D\n",
      "Tempo with Shawn Dub, Napoleon, Pablo Romero\n",
      "Small Rave - Uklon Edition\n",
      "Bklyn Buttr with Jadalareign, DJ 9AM, Yung Moisture + Special Guests\n",
      "After Work-Salsa, Classics, Disco, Dance\n",
      "Feel Loud In NYC\n",
      "Cool Runnings with Carlos Sanchez Movement\n",
      "House of Vogue with MikeQ & Qween Beat\n",
      "Emotion Detected No.1 David Berrie\n",
      "Open Decks Session 99 - Brian's B-Day Special\n",
      "Exile: MAEDON [LIVE] / Veblen Defect / Rob Seurat\n",
      "Wednesday Films: Jimi Plays Monterey & Shake! Otis at Monterey\n",
      "Amici Tomodachi ~ Sub Let, Sana Fujimura, Sean Sato\n",
      "Liquidity\n",
      "Happy Hour with Sombra\n",
      "Deep Root Sessions Nyfw At Public Arts with Kenny Dope\n",
      "Martin Rev (of Suicide)\n",
      "Rich Medina All Night Long\n",
      "Vinyl vs. Mp3 vs. Aiff: Sound Test\n",
      "Temptation 003: Shakedown Street\n",
      "Audiopilot: Jon Cutler, DJ Romain, Kate Garvey, Gian-Paul, Cousin Terry\n",
      "Gusto Invites Karina and Mike Terra\n",
      "La Mamie's\n",
      "Synthicide\n",
      "yes&yay Pres: The Den - Special Guest, Christina Crossin\n",
      "Midtown House at High Bar: Will Buck (Whiskey Disco/Lovedancing)\n",
      "Anything Goes: Art Department\n",
      "Happy Hour with Sombra\n",
      "U2A-5 with DJ Qu Pjay\n",
      "The Office presents: Midnight Boogie Music By: Martin, M.P.C & Special Guest Benny Soto\n",
      "Behind the Groove Pre-Valentines with Barbara Tucker Live\n",
      "Circoloco Fashion Week\n",
      "X-TRA.SERVICES [VALENTINE'S DAY RAVE] — Isabella, Juliana Huxtable, Ren G, Lydo and more\n",
      "Friday: Optimo All Night\n",
      "Mule Musiq with Superpitcher, Dave Aju (Live), Toshiya Kawasaki, Elena Colombi\n",
      "Papi Valentine 2\n",
      "Melting Point presents: a Hardcore Love Affair\n",
      "SHDW & Obscure Shape/ Damon Bradley / Adrestia\n",
      "Wax Motif\n",
      "Cosmodelica x Love Injection\n",
      "Pandamonium: Matt Lange (Anjunabeats), Cheric, Anthony Nikita\n",
      "Valentine's Day After Work Open Bar Cruise\n",
      "Valentine's Day Late Night Dance Cruise\n",
      "Rendezvous with Eleou, Arvi, Lorenzo Slider\n",
      "Cupid's Kandyland - Valentine's Night Yacht Cruise Boat Party NYC\n",
      "Outlaw IV: Valentines Day Makeout Rave\n",
      "SPIRITUAL MENTAL PHYSICAL ~ Valentine's Day House Party\n",
      "JACK DEPT. NYC / sold / Ma Sha / Ade Kassim / John Barera\n",
      "Almost too Much with Makossa and Friends\n",
      "Unusual Suspects 002 with Seth Magoon, Omer Mil & Daddou\n",
      "Caravan Gitane presents Erosphera\n",
      "Joy presents Bliss: A Love Afair\n",
      "Caramelo\n",
      "Ravel Penthouse 808 Valentine's Day Disco Ball 2020\n",
      "Retro Factory presents: Voulez-Vous?? Encore! A Valentine's Day Tribute to the Moulin Rouge\n",
      "Marcia Bassett with Barry Weisblat / Kyle Eyre Clyd\n",
      "The Office presents: Red Light Secrets Music By Benny Soto\n",
      "World Premiere of Animal Farm\n",
      "Museum of Love (DJ Set)\n",
      "Valentine's Day - Sleepy & Boo Guests - Free\n",
      "Tropical Valentine: A Singles Party\n",
      "AKUMANDRA - Brooklyn\n",
      "Wrecked with Juana / Ron Like Hell / Ryan Smith\n",
      "Klandest: Fatima Hajji\n",
      "Golden Record NYC presents Magda, Steve O'Sullivan (Extended Live set), and Morgan\n",
      "Classixx (DJ Set), Seb Wildblood, Tim Sweeney, Little Boots and More\n",
      "ebb + flow with Livio & Roby\n",
      "ZeroSpace presents Jonas Rathsman (Crosstown Rebels / Diynamic)\n",
      "ReSolutely Yours w Glenn Underground & Sadar Bahar\n",
      "Saturday: Hank Jackson and Sybil\n",
      "All We Have Is Now presents Will Clarke (Open to Close)\n",
      "Dope Jams Valentine's Day Ball with Bobbito Garcia\n",
      "999-PIES: Italo Disco Pizza Party 🍕\n",
      "Kingdoms: Gigi Masin, Lights Fluorescent\n",
      "Frequencies - Sleepy & Boo, Kitty Pack + Kyle Ryvn, Happy Hour\n",
      "Destructo\n",
      "DJ Spinna · Natasha Diggs · Mickey Perez\n",
      "Murder of Love\n",
      "Concrete Beatz feat. Kvsh Felguk Live at the Penthouse 2020\n",
      "Feel Free NYC presents: Grand Atrium B2B K.Mal Feat. VJ Kat Sullivan\n",
      "𝐇𝐀𝐋𝐂𝐘𝐎𝐍 𝐕𝐄𝐈𝐋 𝐗 𝐓𝐇𝐄 𝐆𝐋𝐎𝐕𝐄\n",
      "John Barera - Open to Close\n",
      "In Bloom\n",
      "BPM: Toribio x Clouclou & Theo Terev x Omma\n",
      "Throttle\n",
      "Dream Tech\n",
      "World Premiere of Animal Farm\n",
      "Deep Sugar NYC Valentine's / President's Day Weekend\n",
      "The Office presents: Raw Music By: Kate Garvey\n",
      "SNL: Marsweather and Bryce David\n",
      "Discoteca of L.O.V.E 1 Yearr Anniversary with Funky Seshwa\n",
      "Kind Mischief Vol.1 Fundraising for Project Renewal\n",
      "110\n",
      "110\n",
      "110\n"
     ]
    }
   ],
   "source": [
    "df = scrape_events('https://www.residentadvisor.net/events')"
   ]
  },
  {
   "cell_type": "code",
   "execution_count": 68,
   "metadata": {},
   "outputs": [
    {
     "data": {
      "text/html": [
       "<div>\n",
       "<style scoped>\n",
       "    .dataframe tbody tr th:only-of-type {\n",
       "        vertical-align: middle;\n",
       "    }\n",
       "\n",
       "    .dataframe tbody tr th {\n",
       "        vertical-align: top;\n",
       "    }\n",
       "\n",
       "    .dataframe thead th {\n",
       "        text-align: right;\n",
       "    }\n",
       "</style>\n",
       "<table border=\"1\" class=\"dataframe\">\n",
       "  <thead>\n",
       "    <tr style=\"text-align: right;\">\n",
       "      <th></th>\n",
       "      <th>Event_Name</th>\n",
       "      <th>Venue</th>\n",
       "      <th>Number_of_Attendees</th>\n",
       "    </tr>\n",
       "  </thead>\n",
       "  <tbody>\n",
       "    <tr>\n",
       "      <td>0</td>\n",
       "      <td>Weird Science n.18 with Antenes, DJ Voices, Am...</td>\n",
       "      <td>Magick City</td>\n",
       "      <td>68 Attending</td>\n",
       "    </tr>\n",
       "    <tr>\n",
       "      <td>1</td>\n",
       "      <td>dweller: Kfeelz, Bryn Barnett and Titonton Duv...</td>\n",
       "      <td>Nowadays</td>\n",
       "      <td>20 Attending</td>\n",
       "    </tr>\n",
       "    <tr>\n",
       "      <td>2</td>\n",
       "      <td>Night-Walkers *Saeed Younan</td>\n",
       "      <td>[TBA - Brooklyn]</td>\n",
       "      <td>2 Attending</td>\n",
       "    </tr>\n",
       "    <tr>\n",
       "      <td>3</td>\n",
       "      <td>Dweller</td>\n",
       "      <td>[TBA - Brooklyn]</td>\n",
       "      <td>60 Attending</td>\n",
       "    </tr>\n",
       "    <tr>\n",
       "      <td>4</td>\n",
       "      <td>dweller: Make Techno Black Again presents Blac...</td>\n",
       "      <td>Bossa Nova Civic Club</td>\n",
       "      <td>0</td>\n",
       "    </tr>\n",
       "  </tbody>\n",
       "</table>\n",
       "</div>"
      ],
      "text/plain": [
       "                                          Event_Name                  Venue  \\\n",
       "0  Weird Science n.18 with Antenes, DJ Voices, Am...            Magick City   \n",
       "1  dweller: Kfeelz, Bryn Barnett and Titonton Duv...               Nowadays   \n",
       "2                        Night-Walkers *Saeed Younan       [TBA - Brooklyn]   \n",
       "3                                            Dweller       [TBA - Brooklyn]   \n",
       "4  dweller: Make Techno Black Again presents Blac...  Bossa Nova Civic Club   \n",
       "\n",
       "  Number_of_Attendees  \n",
       "0        68 Attending  \n",
       "1        20 Attending  \n",
       "2         2 Attending  \n",
       "3        60 Attending  \n",
       "4                   0  "
      ]
     },
     "execution_count": 68,
     "metadata": {},
     "output_type": "execute_result"
    }
   ],
   "source": [
    "df.head()"
   ]
  },
  {
   "cell_type": "markdown",
   "metadata": {},
   "source": [
    "## Write a Function to Retrieve the URL for the Next Page"
   ]
  },
  {
   "cell_type": "code",
   "execution_count": null,
   "metadata": {},
   "outputs": [],
   "source": [
    "def next_page(url):\n",
    "    #Your code here\n",
    "    return next_page_url"
   ]
  },
  {
   "cell_type": "markdown",
   "metadata": {},
   "source": [
    "## Scrape the Next 1000 Events for Your Area\n",
    "\n",
    "Display the data sorted by the number of attendees. If there is a tie for the number attending, sort by event date."
   ]
  },
  {
   "cell_type": "code",
   "execution_count": null,
   "metadata": {},
   "outputs": [],
   "source": [
    "#Your code here"
   ]
  },
  {
   "cell_type": "markdown",
   "metadata": {},
   "source": [
    "## Summary \n",
    "\n",
    "Congratulations! In this lab, you successfully developed a pipeline to scrape a website for concert event information!"
   ]
  }
 ],
 "metadata": {
  "kernelspec": {
   "display_name": "Python 3",
   "language": "python",
   "name": "python3"
  },
  "language_info": {
   "codemirror_mode": {
    "name": "ipython",
    "version": 3
   },
   "file_extension": ".py",
   "mimetype": "text/x-python",
   "name": "python",
   "nbconvert_exporter": "python",
   "pygments_lexer": "ipython3",
   "version": "3.6.9"
  }
 },
 "nbformat": 4,
 "nbformat_minor": 4
}
